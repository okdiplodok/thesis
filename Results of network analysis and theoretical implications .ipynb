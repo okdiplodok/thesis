{
 "cells": [
  {
   "cell_type": "markdown",
   "metadata": {
    "deletable": true,
    "editable": true
   },
   "source": [
    "# Analysis of the results"
   ]
  },
  {
   "cell_type": "markdown",
   "metadata": {
    "deletable": true,
    "editable": true
   },
   "source": [
    "## Metrics analysis of word2vec networks"
   ]
  },
  {
   "cell_type": "markdown",
   "metadata": {
    "deletable": true,
    "editable": true
   },
   "source": [
    "Italian"
   ]
  },
  {
   "cell_type": "code",
   "execution_count": 4,
   "metadata": {
    "collapsed": false,
    "deletable": true,
    "editable": true
   },
   "outputs": [
    {
     "name": "stdout",
     "output_type": "stream",
     "text": [
      "transitivity: 0.02446800001\n",
      "assortativity: -0.10927938516889217\n",
      "number_vertices: 795908\n",
      "clusters_n: 2840\n",
      "number_edges: 94102813\n",
      "w_connected: False\n",
      "average degree: 236.467\n",
      "density: 0.00029710325320549293\n"
     ]
    }
   ],
   "source": [
    "f = open('./word2vec_it/it_w_graphf.csv', 'r', encoding='utf-8')\n",
    "for line in f:\n",
    "    print(line.strip())"
   ]
  },
  {
   "cell_type": "markdown",
   "metadata": {
    "deletable": true,
    "editable": true
   },
   "source": [
    "Russian"
   ]
  },
  {
   "cell_type": "code",
   "execution_count": 3,
   "metadata": {
    "collapsed": false,
    "deletable": true,
    "editable": true
   },
   "outputs": [
    {
     "name": "stdout",
     "output_type": "stream",
     "text": [
      "transitivity: 0.45140185987949577\n",
      "assortativity: 0.2895434379522005\n",
      "number_vertices: 63415\n",
      "clusters_n: 5014\n",
      "number_edges: 333285\n",
      "w_connected: False\n",
      "average degree: 10.511\n",
      "density: 0.000165755756017643\n"
     ]
    }
   ],
   "source": [
    "f = open('./word2vec_rus/rus_graphf.csv', 'r', encoding='utf-8')\n",
    "for line in f:\n",
    "    print(line.strip())"
   ]
  },
  {
   "cell_type": "markdown",
   "metadata": {
    "deletable": true,
    "editable": true
   },
   "source": [
    "As we can see, Italian graph has more vertices and more edges than Russian, because Italian word2vec model had more tokens than Russian.  Surprisingly, these two networks which were built similarly and from similar kinds of sources have different signs in the measure of assortativity. We assume that this happened because of the different tresholds chosen for this two networks (cosine distance). For Italian network it was 0.65, for Russian -- 0.52. \n",
    "Transitivity of Russian network is much higher than in Italian network. We expected word2vec graphs to have high global clustering coefficients (transitivity), thus, more connected triangles, because if word A is a (quasi)synonym of B, B is a (quasi)synonym of C, it is logical that A is going to be synonymous to C. If the treshold in Italian were lower, most probably, the number of completed triangles in the network would be higher and, thus, transitivity. \n",
    "Another interesing difference between two networks is their average degree. The average degree in Italian network is 23 times higher than in Russian. Anomally big quantity of high-degree vertices in Italian network causes this effect."
   ]
  },
  {
   "cell_type": "markdown",
   "metadata": {
    "deletable": true,
    "editable": true
   },
   "source": [
    "![title](word2vec_it/it_w_degreedistr.png)"
   ]
  },
  {
   "cell_type": "markdown",
   "metadata": {
    "deletable": true,
    "editable": true
   },
   "source": [
    "![title](word2vec_rus/ru_w_degreedistr.png)"
   ]
  },
  {
   "cell_type": "markdown",
   "metadata": {
    "deletable": true,
    "editable": true
   },
   "source": [
    "The slight reflection of this tendency can also be noticed in Russian network.\n",
    "We will find out which words in particular causes this peculiarity."
   ]
  },
  {
   "cell_type": "code",
   "execution_count": 27,
   "metadata": {
    "collapsed": true,
    "deletable": true,
    "editable": true
   },
   "outputs": [],
   "source": [
    "# Russian\n",
    "data = g.degree()\n",
    "in_values = sorted(set(data))\n",
    "in_hist = {x: g.degree().count(x) for x in in_values}"
   ]
  },
  {
   "cell_type": "code",
   "execution_count": 28,
   "metadata": {
    "collapsed": false,
    "deletable": true,
    "editable": true
   },
   "outputs": [
    {
     "name": "stdout",
     "output_type": "stream",
     "text": [
      "11; 959\n",
      "12; 848\n",
      "13; 758\n",
      "14; 654\n",
      "15; 609\n",
      "16; 605\n",
      "17; 489\n",
      "18; 446\n",
      "20; 394\n",
      "19; 391\n",
      "21; 358\n",
      "23; 326\n",
      "22; 309\n",
      "24; 305\n",
      "25; 254\n",
      "26; 229\n",
      "28; 223\n",
      "27; 219\n",
      "29; 194\n",
      "50; 194\n",
      "30; 187\n",
      "49; 175\n",
      "51; 175\n",
      "32; 174\n",
      "31; 167\n",
      "35; 151\n",
      "33; 149\n",
      "34; 148\n",
      "40; 141\n",
      "52; 140\n",
      "39; 135\n",
      "36; 134\n",
      "38; 132\n",
      "53; 131\n",
      "37; 116\n",
      "48; 116\n",
      "54; 110\n",
      "46; 108\n",
      "59; 107\n",
      "47; 104\n",
      "43; 102\n",
      "45; 102\n",
      "56; 101\n"
     ]
    }
   ],
   "source": [
    "for j in sorted(in_hist, key = in_hist.get, reverse = True):\n",
    "    if j > 10 and j < 100 and in_hist[j] > 100 and  in_hist[j] < 1000:\n",
    "        print(str(j) + '; ' + str(in_hist[j]))"
   ]
  },
  {
   "cell_type": "markdown",
   "metadata": {
    "deletable": true,
    "editable": true
   },
   "source": [
    "Nodes with degree = 49-51 stand out from the ascending order of degrees (first column)."
   ]
  },
  {
   "cell_type": "code",
   "execution_count": 30,
   "metadata": {
    "collapsed": false,
    "deletable": true,
    "editable": true
   },
   "outputs": [
    {
     "name": "stdout",
     "output_type": "stream",
     "text": [
      "мэнэ_S, хиба_S, жулинский_S, ильген_S, горынь_S, вайоминг_S, калифорний_S, джорджия_S, нью-гемпшир_S, трутневой_A, сетунь_S, шуба_S, хлопонин_S, починок_S, брусенский_A, антониевый_A, акимовка_S, станиславовна_S, альмон_S, антониев_S, гидроксид_S, дудинцева_S, аронов_S, белашев_S, мыга_S, дзюбай_S, бавильский_A, худенький_A, ярко-желтый_A, коричневатый_A, корнилов_S, узкоплечий_A, бордовый_A, сопение_S, принстонский_A, агоев_S, чебенеев_S, хандыга_S, голынок_S, степанович_S, издатинлит_S, берзиня_S, несторович_S, слаповский_S, каргатский_A, минаевич_S, клементьич_S, рыжеватый_A, овраг_S, безносик_S, сидорченко_S, ульяновский_A, шарки_S, серейский_S, амударья_S, миркес_S, куваев_S, лещина_S, битов_S, облеков_S, рахманова_S, перикова_S, раиса_S, днепр_S, катерина_S, деменьшин_S, юхновская_S, демидович_S, курбановский_S, спарк_S, реп_S, сидякин_S, толстая_S, анисимовна_S, тепт_S, судзуха_S, немпт_S, немо_S, обтяжка_S, голлер_S, эгиз_S, хохлик_S, смиттен_S, пальчевский_S, флокс_S, деркул_S, ловать_S, париж_S, бабинцев_S, нарген_S, минорка_S, яшвиль_S, данхэ_S, пиотровский_S, марочкин_S, земятченский_A, милосердов_S, токарчук_S, чикош_S, похмелкин_S, пуллум_S, куликовый_A, лолейт_S, полунов_S, просвирин_S, комбикормовый_A, вертгеймер_S, литейно-механический_A, лукьянчик_S, мариничева_S, козельков_S, проклов_S, тюкалов_S, згуридь_S, ковровский_A, танаева_S, сукантон_S, трубинов_S, владиславлев_S, ипполитович_S, чаженгин_S, волженский_A, швайн_S, шмыга_S, бебяков_S, элеватормельмаша_S, титель_S, комиссаренко_S, гермогеновна_S, максович_S, бармина_S, каламанов_S, митьков_S, левинский_S, гвиччиоли_S, буржелон_S, гюрга_S, мишинич_S, домогар_S, авторемонтный_A, нагорянский_A, княжинский_S, герцевич_S, сушкевич_S, дрессель_S, геннадиевич_S, стржалковский_S, аггеевич_S, интерцентр_S, шрамченко_S, бегол_S, жандар_S, вотинцев_S, либединский_S, лоррис_S, авдошин_S, танасов_S, оредеж_S, денисюк_S, тубельский_A, сницар_S, балагин_S, чуенко_S, лашук_S, баварин_S, палий_S, валентиныч_S, дубинина_S, шефлер_S, дуденков_S, бурутин_S, вилович_S, филаретович_S, кырлежев_S, цапин_S\n",
      "###\n",
      "пиджачок_S, френч_S, масляков_S, вригт_S, излучина_S, терект_S, многоводный_A, орегон_S, худун_S, подкумок_S, губерман_S, швидак_S, черногоров_S, бакалов_S, адимил_S, заварский_S, григорьевна_S, симонов_A, зброшко_S, шпрангер_S, грассберг_S, соснин_S, лаврентьевич_S, михайлыч_S, выдубицкий_A, сталелитейный_A, суперфосфатный_A, ляховецкая_S, семеновка_S, архипович_S, ипатьич_S, халилович_S, зацепин_S, чепур_S, эйк_S, янмин_S, гельмонт_S, бюйтный_A, темно-синий_A, афросимов_S, полушин_S, пыхтение_S, бурец_S, телега_S, яцкевич_S, гапотченко_S, затулин_S, бугрянка_S, семлевский_A, сучан_S, зафури_S, склон_S, голошуб_S, терапиано_S, рюмка_S, несвижский_A, красицкий_S, чемеркин_S, лангкави_S, вермут_S, софья_S, ясиноватая_S, кублаханов_S, меран_S, белогуб_S, мошин_S, секретарев_S, маганова_S, шейндлин_S, аванта+_S, бударцева_S, горинафото_S, пижамный_A, кузык_S, здоровец_S, тортунов_S, гулькевичский_A, многолесный_A, кукин_S, волгоградский_A, кепи_S, клочкова_S, храпатый_A, музыкантский_S, игнатова_S, свент_S, болотин_S, лесин_S, плющев_S, иультинский_A, такунч_S, иловля_S, фурманово_S, талис_S, аханов_S, водонасосный_A, вернейль_S, коровкин_S, иннокентиевич_S, ангерап_S, новотрубный_A, цвейс_S, иван_S, тараторин_S, бронт_S, костемольный_A, демьяненко_S, бесхмельницын_S, глицирризиновый_A, арнольдовна_S, лашипс_S, фарерский_A, харчук_S, войшвилло_S, таратухин_S, кураев_S, глазьев_S, кириенко_S, пархомовский_A, квандагоу_S, разбаш_S, рагузов_S, гебелев_S, егоренко_S, лысогорка_S, борнгольм_S, эдиповна_S, зиминовафото_S, чаушеска_S, швидлер_S, дворкин_S, брынцалова_S, рафаилович_S, есюнин_S, нуз_S, гзгзян_S, червиченко_S, горшунов_S, молоховец_S, котюс_S, папава_S, ноос_S, яныгин_S, чемез_S, водолажский_A, оттоныч_S, ромадин_S, беспалов_S, арро_S, гатвинский_S, галибин_S, семак_S, ярешко_S, глюконовый_A, богусонов_S, веллер_S, кублановский_A, бугорь_S, куличкин_S, круглик_S, гронас_S, макушев_S, альгиновый_A, ходакова_S, улин_S, савченков_S, тореев_S, коптев_S, залыгин_S, рекшан_S, тейяр_S, бордуков_S, угланов_S, киндеркнехт_S, баневич_S, датуровый_A, хулап_S, колотилкин_S, сиаловой_A, вирич_S, плигин_S, сурганов_S, мавроди_S, меньшов_S, довганя_S, пикаев_S, кешишев_S, дубинин_S, кривокрас_S, веденин_S, бугаевский_S, малащенко_S, сыропятов_S, никотиновый_A\n",
      "###\n",
      "шувар_S, бельманка_S, брючки_S, шубка_S, рагу_S, висконсин_S, басовитый_A, верходанов_S, жакетка_S, герчак_S, сухарников_S, карлей_S, леоненко_S, абалак_S, полиакриловый_A, анатольевна_S, скорбященский_A, рекович_S, аларский_A, сербина_S, северстальтранс_S, шабуров_S, саткинский_A, домостроительный_A, молдавер_S, п_S, борматин_S, ларионович_S, бромистый_A, двухвалентный_A, мытарев_S, илиодорович_S, юликов_S, жмаев_S, исупов_S, приемыхов_S, тегиус_S, гоговский_A, соен_S, шишмакова_S, коростелева_S, славинская_S, элтон_S, карнаух_S, голяховский_A, деникин_S, слащов_S, житинский_S, камбуровой_A, когут_S, слащеный_A, повозка_S, фирташ_S, сергеевич_S, аттинья_S, енисей_S, полисский_A, отрог_S, валуец_S, сомусев_S, толстов_S, сильвестрович_S, тимьян_S, кодзаев_S, архангельский_A, пантелеймонович_S, азнаур_S, володихин_S, извек_S, литинский_S, кош-агачский_A, жих_S, артемовск_S, теофиловка_S, волхов_S, осмиевый_A, нестерович_S, парфентьич_S, пайнз_S, данильянц_S, самаранефтегаз_S, богоотроковица_S, папер_S, скубенный_A, дополна_S, чечилова_S, кумух_S, пниуи_S, шерстяной_A, коломянковый_A, флигиль_S, карлофф_S, есандрыч_S, алданский_A, лазуркина_S, формальдегид_S, прокловна_S, никулинфото_S, врацкая_S, крут_S, мирошина_S, юзефовна_S, скляр_S, вайнстайн_S, смирнягин_S, четахский_A, уилбурн_S, дрин_S, ресин_S, орешкин_S, тигдамуга_S, сакхома_S, евневич_S, мостов_S, санглен_S, радиоприборный_A, стадник_S, рыбальченко_S, крутикова_S, хасапов_S, гутцайт_S, орхон_S, сиаловый_A, сарафан_S, абсцизовый_A, протва_S, ярославович_S, бабурин_S, южаков_S, катунин_S, шейнцис_S, кыштымский_A, спиваков_S, ашкенази_S, лазарук_S, шевердяев_S, заяцкий_S, будажапов_S, залиханова_S, ставрогина_S, иванкин_S, левантовский_A, сергеенков_S, кузичев_S, гуцериев_S, кротоновый_A, паченов_S, кулистиков_S, лейдерман_S, мясненко_S, дремлюг_S, жеребенков_S, маканин_S, марголис_S, новиченко_S, щербанин_S, ештокин_S, чувикин_S, зарицкий_S, калякин_S, соляный_A, пропионовый_A, наволокина_S, арабов_S, мудрак_S, гармаш_S, бухановский_A, торопыгин_S, есаян_S, ягольников_S, тукманов_S, шабуцкий_S, бархин_S, аншуков_S, скорочкин_S\n"
     ]
    }
   ],
   "source": [
    "print(', '.join(g.vs.select(_degree = 49)[\"name\"]))\n",
    "print('###')\n",
    "print(', '.join(g.vs.select(_degree = 50)[\"name\"]))\n",
    "print('###')\n",
    "print(', '.join(g.vs.select(_degree = 51)[\"name\"]))"
   ]
  },
  {
   "cell_type": "markdown",
   "metadata": {
    "deletable": true,
    "editable": true
   },
   "source": [
    "The words with degree = 49-51 are for the most part Russian names. "
   ]
  },
  {
   "cell_type": "markdown",
   "metadata": {
    "deletable": true,
    "editable": true
   },
   "source": [
    "Italian\n",
    ">>> print(', '.join(g.vs.select(_degree = 1037)[\"name\"]))\n",
    "avernas_NOM, kamberi_NOM, kvilekval_ADJ, nomeidae_ADJ, gambelii_NOM, kaibing_NOM, lesecce_NOM, repetition_NOM, fishes_ADJ, thrifty_ADJ, sentino_ADJ, rafsanjan_NOM, aeternam_NOM, addereto_NOM, coronatorum_NOM, verzera_NOM, olonne_NOM, jurisdictionibus_NOM\n",
    ">>> print('###')\n",
    "###\n",
    ">>> print(', '.join(g.vs.select(_degree = 1230)[\"name\"]))\n",
    "tuatuari_ADJ, plugari_NOM, peasants_NOM, varemeist_ADJ, raconteurs_ADJ, padden_ADJ, temben_ADJ, meidassa_ADJ, aedif_NOM, narcissist_ADJ, marquel_NOM, frostuntil_NOM, copertas_NOM, eicas_ADJ, nozzae_ADJ, lemke_NOM\n",
    ">>> print('###')\n",
    "###\n",
    ">>> print(', '.join(g.vs.select(_degree = 1102)[\"name\"]))\n",
    "edmontonensis_NOM, lacurne_ADJ, dienste_NOM, abstinence_NOM, monoko_NOM, chajbulaev_NOM, giurdignano_NOM, excellentibus_NOM, immunit_NOM, cimadera_NOM, margerie_NOM, kipner_NOM, creidhne_NOM, muina_ADJ, simplicibus_ADJ, naiùn_NOM, reichtum_NOM, chivré_NOM\n",
    ">>> "
   ]
  },
  {
   "cell_type": "markdown",
   "metadata": {
    "deletable": true,
    "editable": true
   },
   "source": [
    "The abnormality in Italian graph is caused by latin words (like *immunit*), geographical designations (*Cimadera*), names (*Verzera*), and words from other languages (*fishes*).\n",
    "To sum up, both Italian and Russian networks have a massive amount of peripheral words which became high-degree nodes in the network due to the network architecture algorithm. The high treshold which was establish because of computational capacity limitations made low frequency words get highest degrees, as the cosine similarity between them is higher than between the most similar common words. Compare the most similar words for *нефтегазкомплектсервис* (a name of a firm) and *абрикос* (apricot):<br>\n",
    "нефтегазкомплектсервис крионорд 0.8124246597290039<br>\n",
    "абрикос вишня 0.6917681694030762"
   ]
  },
  {
   "cell_type": "markdown",
   "metadata": {
    "deletable": true,
    "editable": true
   },
   "source": [
    "## Top degree, top betweenness centrality in word2vec networks"
   ]
  },
  {
   "cell_type": "markdown",
   "metadata": {
    "deletable": true,
    "editable": true
   },
   "source": [
    "Italian, nodes with the highest degrees"
   ]
  },
  {
   "cell_type": "code",
   "execution_count": 32,
   "metadata": {
    "collapsed": false,
    "deletable": true,
    "editable": true
   },
   "outputs": [
    {
     "name": "stdout",
     "output_type": "stream",
     "text": [
      "56062;dekkhinathiri_NOM\n",
      "56045;puiatu_ADJ\n",
      "52933;pappírs_ADJ\n",
      "49776;foreti_NOM\n",
      "49456;bardusco_ADJ\n",
      "46452;perfectionibus_NOM\n",
      "45744;contestab_NOM\n",
      "45306;mimophis_NOM\n",
      "44608;gerip_NOM\n",
      "43554;escrú_NOM\n",
      "43114;kirna_NOM\n",
      "42614;vaudefilms_NOM\n",
      "42581;tabío_ADJ\n",
      "41443;blastidi_NOM\n",
      "40216;mxx_NOM\n",
      "40212;ccclvi_NOM\n",
      "40177;dortous_NOM\n",
      "40002;holdi_NOM\n",
      "39632;caponum_NOM\n",
      "39529;syampati_NOM\n"
     ]
    }
   ],
   "source": [
    "f = open('./word2vec_it/it_w_topdegree.csv', 'r', encoding='utf-8')\n",
    "for line in f:\n",
    "    print(line.strip())"
   ]
  },
  {
   "cell_type": "markdown",
   "metadata": {
    "deletable": true,
    "editable": true
   },
   "source": [
    "Russian, nodes with the highest degrees"
   ]
  },
  {
   "cell_type": "code",
   "execution_count": 33,
   "metadata": {
    "collapsed": false,
    "deletable": true,
    "editable": true
   },
   "outputs": [
    {
     "name": "stdout",
     "output_type": "stream",
     "text": [
      "371;кибалко_S\n",
      "342;голяндин_S\n",
      "321;клевчень_S\n",
      "318;гажев_S\n",
      "314;гоник_S\n",
      "304;мосалев_S\n",
      "301;харченков_S\n",
      "299;щуплов_S\n",
      "298;соколовер_S\n",
      "293;цапелик_S\n",
      "280;мельков_S\n",
      "278;иванюк_S, убоженко_S\n",
      "278;иванюк_S, убоженко_S\n",
      "277;франюк_S\n",
      "276;братерский_A, сливяк_S\n",
      "276;братерский_A, сливяк_S\n",
      "275;аркуша_S\n",
      "274;рудиковский_S\n",
      "273;баричев_S\n",
      "272;костьев_S\n"
     ]
    }
   ],
   "source": [
    "f = open('./word2vec_rus/ru_w_topdegree.csv', 'r', encoding='utf-8')\n",
    "for line in f:\n",
    "    print(line.strip())"
   ]
  },
  {
   "cell_type": "markdown",
   "metadata": {
    "deletable": true,
    "editable": true
   },
   "source": [
    "Words which have the highest degrees in Russian and Italian word2vec networks are also low-frequency."
   ]
  },
  {
   "cell_type": "markdown",
   "metadata": {
    "deletable": true,
    "editable": true
   },
   "source": [
    "Italian, nodes with the highest betweenness centrality measure"
   ]
  },
  {
   "cell_type": "code",
   "execution_count": 48,
   "metadata": {
    "collapsed": false,
    "deletable": true,
    "editable": true
   },
   "outputs": [
    {
     "name": "stdout",
     "output_type": "stream",
     "text": [
      "dekkhinathiri_NOM\n",
      "foreti_NOM\n",
      "bardusco_ADJ\n",
      "foreti_NOM\n",
      "pappírs_ADJ\n",
      "escrú_NOM\n",
      "meltada_ADJ\n",
      "feuerstein_ADJ\n",
      "cajum_NOM\n",
      "stansfield_ADJ\n",
      "ccclvi_NOM\n",
      "mxx_NOM\n",
      "syampati_NOM\n",
      "caponum_NOM\n",
      "holdi_NOM\n",
      "blastidi_NOM\n",
      "tabío_ADJ\n",
      "mimophis_NOM\n",
      "perfectionibus_NOM\n",
      "teesta_NOM\n"
     ]
    }
   ],
   "source": [
    "f = open('./word2vec_it/it_w_topbetweennes.csv', 'r', encoding='utf-8')\n",
    "for line in f:\n",
    "    print(line.strip())"
   ]
  },
  {
   "cell_type": "markdown",
   "metadata": {
    "deletable": true,
    "editable": true
   },
   "source": [
    "Russian, nodes with the highest betweenness centrality measure"
   ]
  },
  {
   "cell_type": "code",
   "execution_count": 49,
   "metadata": {
    "collapsed": false,
    "deletable": true,
    "editable": true
   },
   "outputs": [
    {
     "name": "stdout",
     "output_type": "stream",
     "text": [
      "голяндин_S\n",
      "кибалко_S\n",
      "харченков_S\n",
      "гажев_S\n",
      "клевчень_S\n",
      "убоженко_S\n",
      "соколовер_S\n",
      "братерский_A,\n",
      "щуплов_S\n",
      "гоник_S\n",
      "баричев_S\n",
      "костьев_S\n",
      "мосалев_S\n",
      "мелийский_A\n",
      "минеевич_S\n",
      "комодо_S\n",
      "тутечка_S\n",
      "трутневой_A\n",
      "гоник_S\n",
      "сумленный_S\n"
     ]
    }
   ],
   "source": [
    "f = open('./word2vec_rus/ru_w_topbetweennes.csv', 'r', encoding='utf-8')\n",
    "for line in f:\n",
    "    print(line.strip())"
   ]
  },
  {
   "cell_type": "markdown",
   "metadata": {
    "deletable": true,
    "editable": true
   },
   "source": [
    "Words which have the highest betweenness centrality measures in Russian and Italian word2vec networks are also low-frequency."
   ]
  },
  {
   "cell_type": "markdown",
   "metadata": {
    "deletable": true,
    "editable": true
   },
   "source": [
    "## Metrics analysis of Google 2-Grams networks"
   ]
  },
  {
   "cell_type": "markdown",
   "metadata": {
    "deletable": true,
    "editable": true
   },
   "source": [
    "Italian"
   ]
  },
  {
   "cell_type": "code",
   "execution_count": 11,
   "metadata": {
    "collapsed": false,
    "deletable": true,
    "editable": true
   },
   "outputs": [
    {
     "name": "stdout",
     "output_type": "stream",
     "text": [
      "w_connected: False\n",
      "assortativity: -0.08879987405502526\n",
      "transitivity: 0.016367680663209917\n",
      "number_vertices: 23067\n",
      "clusters_n: 1462\n",
      "number_edges: 49299\n",
      "density: 0.00018531249456949138\n",
      "average degree: 4.274\n"
     ]
    }
   ],
   "source": [
    "f = open('./google_it/it_google_graphf.csv', 'r', encoding='utf-8')\n",
    "for line in f:\n",
    "    print(line.strip())"
   ]
  },
  {
   "cell_type": "markdown",
   "metadata": {
    "deletable": true,
    "editable": true
   },
   "source": [
    "German"
   ]
  },
  {
   "cell_type": "code",
   "execution_count": 14,
   "metadata": {
    "collapsed": false,
    "deletable": true,
    "editable": true
   },
   "outputs": [
    {
     "name": "stdout",
     "output_type": "stream",
     "text": [
      "w_connected: False\n",
      "assortativity: -0.10766518979680163\n",
      "transitivity: 0.008052953647246059\n",
      "number_vertices: 27527\n",
      "clusters_n: 1789\n",
      "number_edges: 73563\n",
      "density: 0.0001941723734963608\n",
      "average degree: 5.345\n"
     ]
    }
   ],
   "source": [
    "f = open('./google_de/de_google_graphf.csv', 'r', encoding='utf-8')\n",
    "for line in f:\n",
    "    print(line.strip())"
   ]
  },
  {
   "cell_type": "markdown",
   "metadata": {
    "deletable": true,
    "editable": true
   },
   "source": [
    "Russian"
   ]
  },
  {
   "cell_type": "code",
   "execution_count": 13,
   "metadata": {
    "collapsed": false,
    "deletable": true,
    "editable": true
   },
   "outputs": [
    {
     "name": "stdout",
     "output_type": "stream",
     "text": [
      "density: 0.0008420803903874514\n",
      "clusters_n: 164\n",
      "transitivity: 0.05728370850350855\n",
      "w_connected: False\n",
      "assortativity: -0.09959788508259527\n",
      "number_edges: 33100\n",
      "average degree: 7.466\n",
      "number_vertices: 8867\n"
     ]
    }
   ],
   "source": [
    "f = open('./google_rus/google_graphf.csv', 'r', encoding='utf-8')\n",
    "for line in f:\n",
    "    print(line.strip())"
   ]
  },
  {
   "cell_type": "markdown",
   "metadata": {
    "deletable": true,
    "editable": true
   },
   "source": [
    "The output above shows that Italian an German networks are quite similar to each other, while Russian co-occurrence network slightly differs from them by some parameters. It is denser, has much less vertices and clusters, average degree and transitivity are slightly bigger. The total count of tokens in Russian, Italian, and German corpora is 67, 40, 64 milliard respectively. As the corpora volumes are compatible, the difference between network analysis metrics can be explained by the fact that lemmatisation was applied to Russian data while preprocessing, but to German and Italian networks was not. \n",
    "In general, the difference discussed above is not drastic, and networks exhibit similar properties."
   ]
  },
  {
   "cell_type": "markdown",
   "metadata": {
    "deletable": true,
    "editable": true
   },
   "source": [
    "67137666353 - Russian\n",
    "40288809936 - Italian\n",
    "64784628286 - German"
   ]
  },
  {
   "cell_type": "markdown",
   "metadata": {
    "deletable": true,
    "editable": true
   },
   "source": [
    "## Scale-free?"
   ]
  },
  {
   "cell_type": "markdown",
   "metadata": {
    "deletable": true,
    "editable": true
   },
   "source": [
    "As it can be seen in the figures showing degreee distribution of word2vec networks, degree distribution of both graphs does not follow power law. Thus, they cannot be considered scale-free.\n",
    "Co-occurrence networks degree distribution, on the contrary, follows power law and can be called scale-free."
   ]
  },
  {
   "cell_type": "markdown",
   "metadata": {
    "deletable": true,
    "editable": true
   },
   "source": [
    "![title](google_de/de_g_degreedistr1.png)"
   ]
  },
  {
   "cell_type": "markdown",
   "metadata": {
    "deletable": true,
    "editable": true
   },
   "source": [
    "![title](google_it/it_google_degreedistr.png)"
   ]
  },
  {
   "cell_type": "markdown",
   "metadata": {
    "deletable": true,
    "editable": true
   },
   "source": [
    "![title](google_rus/ru_g_degreedistr.png)"
   ]
  },
  {
   "cell_type": "markdown",
   "metadata": {
    "deletable": true,
    "editable": true
   },
   "source": [
    "## Small-world?"
   ]
  },
  {
   "cell_type": "markdown",
   "metadata": {
    "deletable": true,
    "editable": true
   },
   "source": [
    "Only word2vec network of the Russian language shows global clustering coefficient to be characterized as having the small-world feature (0.45), the other networks have too small transtivity metric. \n",
    "Although Russian word2vec network is not connected, the average path can be counted for its giant component (largest subgraph), if it contains the majority of network nodes."
   ]
  },
  {
   "cell_type": "code",
   "execution_count": 16,
   "metadata": {
    "collapsed": false,
    "deletable": true,
    "editable": true
   },
   "outputs": [],
   "source": [
    "import igraph\n",
    "g = igraph.Graph.Read_Ncol('./graphs/rus_word2vec_graph.ncol', directed=False, names=True).simplify(combine_edges=max)"
   ]
  },
  {
   "cell_type": "code",
   "execution_count": 17,
   "metadata": {
    "collapsed": true,
    "deletable": true,
    "editable": true
   },
   "outputs": [],
   "source": [
    "community = g.community_multilevel(weights='weight')"
   ]
  },
  {
   "cell_type": "code",
   "execution_count": 21,
   "metadata": {
    "collapsed": false,
    "deletable": true,
    "editable": true
   },
   "outputs": [
    {
     "name": "stdout",
     "output_type": "stream",
     "text": [
      "2066\n"
     ]
    }
   ],
   "source": [
    "print(community.giant().vcount())"
   ]
  },
  {
   "cell_type": "code",
   "execution_count": 22,
   "metadata": {
    "collapsed": false,
    "deletable": true,
    "editable": true
   },
   "outputs": [
    {
     "name": "stdout",
     "output_type": "stream",
     "text": [
      "3.257904281321454\n"
     ]
    }
   ],
   "source": [
    "print(community.giant().vcount()/g.vcount()*100)"
   ]
  },
  {
   "cell_type": "markdown",
   "metadata": {
    "deletable": true,
    "editable": true
   },
   "source": [
    "As it can be seen from the previous cell, the giant component amount only 3% from the number of vertices. Thus, the graph cannot be counted as a small-world."
   ]
  },
  {
   "cell_type": "markdown",
   "metadata": {
    "deletable": true,
    "editable": true
   },
   "source": [
    "## Top degree, top betweenness centrality in Google 2-Grams networks"
   ]
  },
  {
   "cell_type": "markdown",
   "metadata": {
    "deletable": true,
    "editable": true
   },
   "source": [
    "Italian, nodes with the highest degrees"
   ]
  },
  {
   "cell_type": "code",
   "execution_count": 34,
   "metadata": {
    "collapsed": false,
    "deletable": true,
    "editable": true
   },
   "outputs": [
    {
     "name": "stdout",
     "output_type": "stream",
     "text": [
      "1081;sono\n",
      "886;and\n",
      "681;era\n",
      "420;the, sia\n",
      "420;the, sia\n",
      "391;des\n",
      "375;può\n",
      "370;hanno\n",
      "340;aveva\n",
      "314;und\n",
      "297;der\n",
      "285;essere\n",
      "244;deve\n",
      "201;viene\n",
      "194;que\n",
      "183;generale\n",
      "177;sguardo\n",
      "175;two\n",
      "174;own\n",
      "166;sociale\n"
     ]
    }
   ],
   "source": [
    "f = open('./google_it/it_google_topdegree.csv', 'r', encoding='utf-8')\n",
    "for line in f:\n",
    "    print(line.strip())"
   ]
  },
  {
   "cell_type": "markdown",
   "metadata": {
    "deletable": true,
    "editable": true
   },
   "source": [
    "Russian, nodes with the highest degrees"
   ]
  },
  {
   "cell_type": "code",
   "execution_count": 36,
   "metadata": {
    "collapsed": false,
    "deletable": true,
    "editable": true
   },
   "outputs": [
    {
     "name": "stdout",
     "output_type": "stream",
     "text": [
      "1253;быть\n",
      "508;этот\n",
      "453;мочь\n",
      "409;человек\n",
      "396;являться\n",
      "339;тот\n",
      "327;том\n",
      "314;форма\n",
      "300;жизнь\n",
      "299;такой\n",
      "285;часть\n",
      "275;работа\n",
      "273;язык\n",
      "261;другой\n",
      "258;день\n",
      "251;тип\n",
      "250;год\n",
      "249;русский\n",
      "242;характер\n",
      "228;число\n",
      "\n"
     ]
    }
   ],
   "source": [
    "f = open('./google_rus/ru_google_topdegree.csv', 'r', encoding='utf-8')\n",
    "for line in f:\n",
    "    print(line.strip())"
   ]
  },
  {
   "cell_type": "markdown",
   "metadata": {
    "deletable": true,
    "editable": true
   },
   "source": [
    "German, nodes with the highest degrees"
   ]
  },
  {
   "cell_type": "code",
   "execution_count": 37,
   "metadata": {
    "collapsed": false,
    "deletable": true,
    "editable": true
   },
   "outputs": [
    {
     "name": "stdout",
     "output_type": "stream",
     "text": [
      "4005;ist\n",
      "1905;sind\n",
      "1799;werden\n",
      "1755;wird\n",
      "1440;hat\n",
      "1385;war\n",
      "1039;wurde\n",
      "811;haben\n",
      "792;kann\n",
      "576;hatte\n",
      "569;sein\n",
      "472;and\n",
      "460;wurden\n",
      "435;waren\n",
      "421;können\n",
      "296;sei\n",
      "293;worden\n",
      "285;gibt\n",
      "263;Arbeit\n",
      "243;Zeit\n"
     ]
    }
   ],
   "source": [
    "f = open('./google_de/de_google_topdegree.csv', 'r', encoding='utf-8')\n",
    "for line in f:\n",
    "    print(line.strip())"
   ]
  },
  {
   "cell_type": "markdown",
   "metadata": {
    "deletable": true,
    "editable": true
   },
   "source": [
    "Top positions in degree ranking belong to functional words (*and, und, que*), modal verbs (*può, deve, мочь, kann, können*), verbs 'to be' (*ist, sind, was, sei, waren, быть, sono, era, essere, sia*), 'to have' (*hat, haben, hatte,  hanno, aveva*), 'to become' (*werden, word, wurde, worden*). They usually serves as auxilary verbs. The German word *gibt* (geben - to give) is used in the contruction 'there is(are)' -- *es gibt*. <br>\n",
    "Above all this functional language units, in these lists there are also high-frequency words like *Zeit* (time), *человек* (a human/a man), *часть* (a part), *день* (a day/afternoon). Moreover, there are polysemious words:\n",
    "<li>generale - general, main, in general, common, majority</li>\n",
    "<li>sguardo - glare, glance, look, view </li>\n",
    "<li>тип - type, kind, model, pattern, character </li>\n",
    "<li>характер - character, nature, temper, personality </li>\n",
    "<li>число - number, date, day, quantity </li>\n",
    "<li>форма - form, shape, uniform, mould, outline, contour</li>\n",
    "<li>Arbeit - work, job, labour. </li><br>\n",
    "The output corresponds with Zipf's law and Zipf's law of meaning."
   ]
  },
  {
   "cell_type": "markdown",
   "metadata": {
    "deletable": true,
    "editable": true
   },
   "source": [
    "Italian, nodes with the highest betweenness centrality measure"
   ]
  },
  {
   "cell_type": "code",
   "execution_count": 43,
   "metadata": {
    "collapsed": false,
    "deletable": true,
    "editable": true
   },
   "outputs": [
    {
     "name": "stdout",
     "output_type": "stream",
     "text": [
      "sono\n",
      "era\n",
      "and\n",
      "sia\n",
      "des\n",
      "aveva\n",
      "und\n",
      "que\n",
      "the\n",
      "può\n",
      "hanno\n",
      "Mr.\n",
      "Oxford\n",
      "ehe\n",
      "der\n",
      "est\n",
      "von\n",
      "G.B.\n",
      "plus\n",
      "P.M.\n"
     ]
    }
   ],
   "source": [
    "f = open('./google_it/it_google_topbetweennes.csv', 'r', encoding='utf-8')\n",
    "for line in f:\n",
    "    print(line.strip())"
   ]
  },
  {
   "cell_type": "markdown",
   "metadata": {
    "deletable": true,
    "editable": true
   },
   "source": [
    "Russian, nodes with the highest betweenness centrality measure"
   ]
  },
  {
   "cell_type": "code",
   "execution_count": 45,
   "metadata": {
    "collapsed": false,
    "deletable": true,
    "editable": true
   },
   "outputs": [
    {
     "name": "stdout",
     "output_type": "stream",
     "text": [
      "быть\n",
      "этот\n",
      "том\n",
      "человек\n",
      "мочь\n",
      "форма\n",
      "тот\n",
      "часть\n",
      "тип\n",
      "являться\n",
      "язык\n",
      "год\n",
      "работа\n",
      "день\n",
      "группа\n",
      "жизнь\n",
      "е\n",
      "характер\n",
      "тьма\n",
      "другой\n"
     ]
    }
   ],
   "source": [
    "f = open('./google_rus/rus_google_topbetweennes.csv', 'r', encoding='utf-8')\n",
    "for line in f:\n",
    "    print(line.strip())"
   ]
  },
  {
   "cell_type": "markdown",
   "metadata": {
    "deletable": true,
    "editable": true
   },
   "source": [
    "German, nodes with the highest betweenness centrality measure"
   ]
  },
  {
   "cell_type": "code",
   "execution_count": 46,
   "metadata": {
    "collapsed": false,
    "deletable": true,
    "editable": true
   },
   "outputs": [
    {
     "name": "stdout",
     "output_type": "stream",
     "text": [
      "ist\n",
      "sind\n",
      "war\n",
      "hat\n",
      "and\n",
      "werden\n",
      "wird\n",
      "wurde\n",
      "Hrsg.\n",
      "ff.\n",
      "haben\n",
      "kann\n",
      "Uwe\n",
      "Otto\n",
      "hatte\n",
      "Ulrich\n",
      "Vladimir\n",
      "GmbH\n",
      "ccm\n",
      "Hl.\n"
     ]
    }
   ],
   "source": [
    "f = open('./google_de/de_google_topbetweennes.csv', 'r', encoding='utf-8')\n",
    "for line in f:\n",
    "    print(line.strip())"
   ]
  },
  {
   "cell_type": "markdown",
   "metadata": {
    "deletable": true,
    "editable": true
   },
   "source": [
    "In the top of betweenness centrality ranking there are also many words which serves as functional units in the language (articles, 'to be', 'to have', 'to become'), modal verbs. \n",
    "While preprocessing the Russian language corpora we had an opportunity not to include all the tokens from other languages by applying a filter to latin characters and  checking whether a token has been annotated by pymorphy2 as 'UNKN' or 'LATN'. As we did not apply such kind of preprocessing to German and Italian languages, several tokens from exterior languages appeared to be in the graph, and high-frequency of them were assigned with the high measure of betweenness centrality."
   ]
  },
  {
   "cell_type": "markdown",
   "metadata": {
    "deletable": true,
    "editable": true
   },
   "source": [
    "## Community detection analysis"
   ]
  },
  {
   "cell_type": "markdown",
   "metadata": {
    "deletable": true,
    "editable": true
   },
   "source": [
    "The applied community detection algorithm has separated graphs into cluster in a very detailed manner. In the tables below you can see quantity of clusters for each languages and the number of clusters, in which there are >= 30 words. "
   ]
  },
  {
   "cell_type": "markdown",
   "metadata": {
    "deletable": true,
    "editable": true
   },
   "source": [
    "Word2Vec"
   ]
  },
  {
   "cell_type": "markdown",
   "metadata": {
    "deletable": true,
    "editable": true
   },
   "source": [
    "\n",
    "\n",
    "|         |Italian|Russian|\n",
    "|---------|-------|------ |\n",
    "|n_cluster| 2840  | 125   |\n",
    "| >= 30   | 5014  | 285   |\n",
    "\n"
   ]
  },
  {
   "cell_type": "markdown",
   "metadata": {
    "deletable": true,
    "editable": true
   },
   "source": [
    "Google 2-Grams"
   ]
  },
  {
   "cell_type": "markdown",
   "metadata": {
    "deletable": true,
    "editable": true
   },
   "source": [
    "|         |Italian|Russian|German|\n",
    "|---------|-------|------ |------|\n",
    "|n_cluster| 1462  | 164   | 1789 |\n",
    "| >= 30   |   46  |  53   |  69  |"
   ]
  },
  {
   "cell_type": "markdown",
   "metadata": {
    "deletable": true,
    "editable": true
   },
   "source": [
    "Clusters of 2 or 3 words, naturally, do not represent semantic domains. They usually contain collocations, names of entities, such as firms, geographical locations, abbreviations.\n",
    "<li>шут гороховый</li>\n",
    "<li>йоркширский терьер</li>\n",
    "<li>Asthma bronchiale</li>\n",
    "<li>Etica Nicomachea</li>\n",
    "<li>freundlichen Grüßen (a German letter closing, 'best wishes')</li>"
   ]
  },
  {
   "cell_type": "markdown",
   "metadata": {
    "deletable": true,
    "editable": true
   },
   "source": [
    "We are going to take a closer look at Google 2-grams graphs clusters which contain high-degree polysynonymous words (see the output above)."
   ]
  },
  {
   "cell_type": "code",
   "execution_count": 26,
   "metadata": {
    "collapsed": true,
    "deletable": true,
    "editable": true
   },
   "outputs": [],
   "source": [
    "import igraph\n",
    "g = igraph.Graph.Read_Ncol('./graphs/de_google_graphf.ncol', directed=False, names=True).simplify(combine_edges=max)"
   ]
  },
  {
   "cell_type": "code",
   "execution_count": 27,
   "metadata": {
    "collapsed": true,
    "deletable": true,
    "editable": true
   },
   "outputs": [],
   "source": [
    "communityde = g.community_multilevel(weights='weight')"
   ]
  },
  {
   "cell_type": "code",
   "execution_count": 35,
   "metadata": {
    "collapsed": false,
    "deletable": true,
    "editable": true
   },
   "outputs": [],
   "source": [
    "word = g.vs.find(name=\"Arbeit\").index"
   ]
  },
  {
   "cell_type": "code",
   "execution_count": 78,
   "metadata": {
    "collapsed": true,
    "deletable": true,
    "editable": true
   },
   "outputs": [],
   "source": [
    "for vertex in g.vs():\n",
    "    vertex[\"label\"] = vertex[\"name\"]"
   ]
  },
  {
   "cell_type": "code",
   "execution_count": 36,
   "metadata": {
    "collapsed": false,
    "deletable": true,
    "editable": true
   },
   "outputs": [
    {
     "name": "stdout",
     "output_type": "stream",
     "text": [
      "732\n"
     ]
    }
   ],
   "source": [
    "for index, i in enumerate(communityde):\n",
    "    for element in i:\n",
    "        if element == word:\n",
    "            print(index)\n",
    "            cluster = communityde.subgraph(index)\n",
    "            #igraph.plot(cluster, './google_it/sguardo.png', layout='drl')\n",
    "            break"
   ]
  },
  {
   "cell_type": "code",
   "execution_count": 37,
   "metadata": {
    "collapsed": false,
    "deletable": true,
    "editable": true
   },
   "outputs": [],
   "source": [
    "result = open('Arbeitcluster.txt', 'a', encoding='utf-8')\n",
    "for element in cluster.vs():\n",
    "    result.write(element[\"name\"] + '\\n')"
   ]
  },
  {
   "cell_type": "code",
   "execution_count": 7,
   "metadata": {
    "collapsed": false
   },
   "outputs": [
    {
     "name": "stdout",
     "output_type": "stream",
     "text": [
      "Studi\n",
      "AA.W.\n",
      "luogo\n",
      "citato\n",
      "ragione\n",
      "seguito\n",
      "Abbonamento\n",
      "annuo\n",
      "abbonamento\n",
      "postale\n",
      "\n"
     ]
    }
   ],
   "source": [
    "n = open('sguardocluster.txt', 'r', encoding='utf-8').readlines()[:10]\n",
    "print(''.join(n))"
   ]
  },
  {
   "cell_type": "markdown",
   "metadata": {
    "deletable": true,
    "editable": true
   },
   "source": [
    "![title](./google_it/sguardo.png)"
   ]
  },
  {
   "cell_type": "markdown",
   "metadata": {
    "deletable": true,
    "editable": true
   },
   "source": [
    "This cluster is big and dense. Nevertheless, not all the vertices are related to 'sguardo' (glance, view) and we cannot claim that this cluster represents a semantic domain (*parola (word), dialogo (dialogue), dolore (pain), natura, problema* are in this cluster). \n"
   ]
  },
  {
   "cell_type": "markdown",
   "metadata": {
    "deletable": true,
    "editable": true
   },
   "source": [
    "The next cluster represents days of the week (*lunedi, sabato, domenica*), parts of the day (*sera (evening), mattino (morning)*, and other time markers (*ieri (yesterday), indomani (tomorrow, the next day)*). The central part of the graph represents 'time' domain. Nevertheless, there are some nodes which are not related to this domain. On th right end of the plot there are adjectives associated with *evening* (*sera*), for instance, *impensabile (unthinkable, impossible)*. On the left bottom of the figure some words non-Italian words and characters are presented."
   ]
  },
  {
   "cell_type": "markdown",
   "metadata": {
    "deletable": true,
    "editable": true
   },
   "source": [
    "![title](./google_it/pomodoro.png)"
   ]
  },
  {
   "cell_type": "markdown",
   "metadata": {
    "deletable": true,
    "editable": true
   },
   "source": [
    "German clusters"
   ]
  },
  {
   "cell_type": "markdown",
   "metadata": {
    "deletable": true,
    "editable": true
   },
   "source": [
    "We are going to investigate in which cluster word *Arbeit* is. "
   ]
  },
  {
   "cell_type": "code",
   "execution_count": 98,
   "metadata": {
    "collapsed": false,
    "deletable": true,
    "editable": true
   },
   "outputs": [
    {
     "name": "stdout",
     "output_type": "stream",
     "text": [
      "732\n"
     ]
    }
   ],
   "source": [
    "for index, i in enumerate(communityde):\n",
    "    for element in i:\n",
    "        if element == word:\n",
    "            print(index)\n",
    "            cluster = communityde.subgraph(index)\n",
    "            igraph.plot(cluster, './google_de/sguardo.png', layout='drl')\n",
    "            break"
   ]
  },
  {
   "cell_type": "code",
   "execution_count": 13,
   "metadata": {
    "collapsed": false,
    "deletable": true,
    "editable": true
   },
   "outputs": [
    {
     "name": "stdout",
     "output_type": "stream",
     "text": [
      "Aalto\n",
      "and\n",
      "Alvar\n",
      "The\n",
      "Aage\n",
      "Brandt\n",
      "have\n",
      "Aarbog\n",
      "for\n",
      "Aarboger\n",
      "\n"
     ]
    }
   ],
   "source": [
    "n = open('Arbeitcluster.txt', 'r', encoding='utf-8').readlines()[:10]\n",
    "print(''.join(n))"
   ]
  },
  {
   "cell_type": "markdown",
   "metadata": {
    "deletable": true,
    "editable": true
   },
   "source": [
    "![title](./google_de/sguardo.png)"
   ]
  },
  {
   "cell_type": "markdown",
   "metadata": {
    "deletable": true,
    "editable": true
   },
   "source": [
    "This cluster also contains a lot of vertices and is dense. This cluster represents several semantic domains, as in contains abstract words, and some of them have different meanings. "
   ]
  },
  {
   "cell_type": "markdown",
   "metadata": {
    "deletable": true,
    "editable": true
   },
   "source": [
    "We will try to find a corresponding cluster of 'time' in the German co-occurrence network."
   ]
  },
  {
   "cell_type": "code",
   "execution_count": 100,
   "metadata": {
    "collapsed": false,
    "deletable": true,
    "editable": true
   },
   "outputs": [
    {
     "name": "stdout",
     "output_type": "stream",
     "text": [
      "658\n"
     ]
    }
   ],
   "source": [
    "for vertex in g.vs():\n",
    "    vertex[\"label\"] = vertex[\"name\"]\n",
    "word = g.vs.find(name=\"Montag\").index\n",
    "for index, i in enumerate(communityde):\n",
    "    for element in i:\n",
    "        if element == word:\n",
    "            print(index)\n",
    "            cluster = communityde.subgraph(index)\n",
    "            igraph.plot(cluster, './google_it/woche.png', layout='drl')\n",
    "            break"
   ]
  },
  {
   "cell_type": "markdown",
   "metadata": {
    "deletable": true,
    "editable": true
   },
   "source": [
    "![title](./google_de/woche.png)"
   ]
  },
  {
   "cell_type": "markdown",
   "metadata": {
    "deletable": true,
    "editable": true
   },
   "source": [
    "As the cluster is too big and names of the vertices cannot be seen, we print out cluster words."
   ]
  },
  {
   "cell_type": "code",
   "execution_count": 34,
   "metadata": {
    "collapsed": false,
    "deletable": true,
    "editable": true
   },
   "outputs": [
    {
     "name": "stdout",
     "output_type": "stream",
     "text": [
      "\n",
      "acht\n",
      "gelassen\n",
      "lassen\n",
      "Acht\n",
      "läßt\n",
      "achten\n",
      "ist\n",
      "müssen\n",
      "bleiben\n",
      "\n"
     ]
    }
   ],
   "source": [
    "n = open('Zeitcluster.txt', 'r', encoding='utf-8').readlines()[:10]\n",
    "print(''.join(n))"
   ]
  },
  {
   "cell_type": "markdown",
   "metadata": {
    "deletable": true,
    "editable": true
   },
   "source": [
    "There are many words which can co-occur with the days of the week in one sentence, but they cannot be related to the same domain: *gelernt (learned), kann (can), bleibt (stays)*"
   ]
  },
  {
   "cell_type": "markdown",
   "metadata": {
    "deletable": true,
    "editable": true
   },
   "source": [
    "Russian co-occurrence network"
   ]
  },
  {
   "cell_type": "markdown",
   "metadata": {
    "deletable": true,
    "editable": true
   },
   "source": [
    "There are no days of the week presented in Russian co-occurrence network (the frequency of biagrams was low, so that they were not included)."
   ]
  },
  {
   "cell_type": "markdown",
   "metadata": {
    "deletable": true,
    "editable": true
   },
   "source": [
    "Russian word2vec network"
   ]
  },
  {
   "cell_type": "code",
   "execution_count": 106,
   "metadata": {
    "collapsed": false,
    "deletable": true,
    "editable": true
   },
   "outputs": [
    {
     "name": "stdout",
     "output_type": "stream",
     "text": [
      "104\n"
     ]
    }
   ],
   "source": [
    "for vertex in g.vs():\n",
    "    vertex[\"label\"] = vertex[\"name\"]\n",
    "for index, i in enumerate(communityrus):\n",
    "    for element in i:\n",
    "        if element == word:\n",
    "            print(index)\n",
    "            cluster = communityrus.subgraph(index)\n",
    "            igraph.plot(cluster, './google_rus/lang1.png', layout='drl')\n",
    "            break"
   ]
  },
  {
   "cell_type": "markdown",
   "metadata": {
    "deletable": true,
    "editable": true
   },
   "source": [
    "## Conclusion"
   ]
  },
  {
   "cell_type": "markdown",
   "metadata": {
    "deletable": true,
    "editable": true
   },
   "source": [
    "Google 2-Grams networks built in this research appeared to represent language with its semantic nature better than word2vec networks. However, we cannot claim that building a network based a word2vec model is not suitable for linguistic research, the algorithm for this type of network must be modified. The treshold should not be too high, future vertices (words) must be carefully selected by applying frequency dictionary for a model lexicon and/or collocation metrics (Dice coefficient, MI-score, LL-score and etc.) which will catch low frequency noise like bigrams with first and last names. Consequently, there will be no abnormalities in degree distribution and at the top of betweenness centrality and degree rankings will be represented some of the polysemious words. \n",
    "We expect word2vec networks to have much higher global clustering coefficient (like the Russian word2vec network we have built) than Google 2-Grams networks, because relationships of synonymy/antonymy are **transitive**, while co-occurrence relationships may not be transitive.\n",
    "Our co-occurrence networks are scale-free, some words which have more than one meaning are high-degree, which corresponds with Zipf's law of meaning. Moreover, these words are primarily abstract, therefore, they connect vertices from different semantic domains and tend to be in huge clusters where more than one semantic domains are presented."
   ]
  },
  {
   "cell_type": "markdown",
   "metadata": {
    "deletable": true,
    "editable": true
   },
   "source": [
    "## Some plots of networks and clusters"
   ]
  },
  {
   "cell_type": "markdown",
   "metadata": {
    "deletable": true,
    "editable": true
   },
   "source": [
    "Russian word2vec network"
   ]
  },
  {
   "cell_type": "markdown",
   "metadata": {
    "deletable": true,
    "editable": true
   },
   "source": [
    "![title](word2vec_rus/drl_word2vec_rus.png)"
   ]
  },
  {
   "cell_type": "markdown",
   "metadata": {
    "deletable": true,
    "editable": true
   },
   "source": [
    "Russian Google 2-Grams network"
   ]
  },
  {
   "cell_type": "markdown",
   "metadata": {
    "deletable": true,
    "editable": true
   },
   "source": [
    "![title](google_rus/drl_google_rus.png)"
   ]
  },
  {
   "cell_type": "markdown",
   "metadata": {
    "deletable": true,
    "editable": true
   },
   "source": [
    "German Google 2-Grams network with colored clusters"
   ]
  },
  {
   "cell_type": "markdown",
   "metadata": {
    "deletable": true,
    "editable": true
   },
   "source": [
    "![title](google_de/drl_clusters_google_de.png)"
   ]
  },
  {
   "cell_type": "markdown",
   "metadata": {
    "deletable": true,
    "editable": true
   },
   "source": [
    "Italian Google 2-Grams network with colored clusters"
   ]
  },
  {
   "cell_type": "markdown",
   "metadata": {
    "deletable": true,
    "editable": true
   },
   "source": [
    "![title](google_it/drl_clusters_google_it.png)"
   ]
  },
  {
   "cell_type": "markdown",
   "metadata": {
    "deletable": true,
    "editable": true
   },
   "source": [
    "Italian Google 2-Grams network"
   ]
  },
  {
   "cell_type": "markdown",
   "metadata": {
    "deletable": true,
    "editable": true
   },
   "source": [
    "![title](google_it/drl_google_it.png)"
   ]
  },
  {
   "cell_type": "markdown",
   "metadata": {
    "deletable": true,
    "editable": true
   },
   "source": [
    "Unfortunately, the Italian network was too large to be plotted."
   ]
  },
  {
   "cell_type": "code",
   "execution_count": null,
   "metadata": {
    "collapsed": true,
    "deletable": true,
    "editable": true
   },
   "outputs": [],
   "source": []
  }
 ],
 "metadata": {
  "kernelspec": {
   "display_name": "Python 3",
   "language": "python",
   "name": "python3"
  },
  "language_info": {
   "codemirror_mode": {
    "name": "ipython",
    "version": 3
   },
   "file_extension": ".py",
   "mimetype": "text/x-python",
   "name": "python",
   "nbconvert_exporter": "python",
   "pygments_lexer": "ipython3",
   "version": "3.4.4"
  }
 },
 "nbformat": 4,
 "nbformat_minor": 2
}
